{
 "cells": [
  {
   "cell_type": "code",
   "execution_count": 2,
   "metadata": {},
   "outputs": [
    {
     "name": "stdout",
     "output_type": "stream",
     "text": [
      "Name: a \n",
      "Ic: 1 \n",
      "Address: 1,3 \n",
      " \n",
      "Hi, \n",
      "I am submitting an application letter for a job to Perantis. \n",
      " \n",
      "Best regards, \n",
      "a.\n"
     ]
    }
   ],
   "source": [
    "comp_name = \"Perantis\"\n",
    "name = input(\"Name: \")\n",
    "ic = input(\"ic: \")\n",
    "address = input(\"Address: \")\n",
    "\n",
    "print(f\"Name: {name} \\nIc: {ic} \\nAddress: {address} \\n \\nHi, \\nI am submitting an application letter for a job to {comp_name}. \\n \\nBest regards, \\n{name}.\")"
   ]
  },
  {
   "cell_type": "code",
   "execution_count": 4,
   "metadata": {},
   "outputs": [
    {
     "name": "stdout",
     "output_type": "stream",
     "text": [
      "-0.12917130661302934 -3.8708286933869704\n"
     ]
    },
    {
     "data": {
      "text/plain": [
       "(-0.12917130661302934, -3.8708286933869704)"
      ]
     },
     "execution_count": 4,
     "metadata": {},
     "output_type": "execute_result"
    }
   ],
   "source": [
    "import math\n",
    "def quadratic(a,b,c):\n",
    "\n",
    "    x1 = (-b + math.sqrt(b**2 - (4*a*c))) / (2*a)\n",
    "    x2 = (-b - math.sqrt(b**2 - (4*a*c))) / (2*a)\n",
    "    print(x1, x2)\n",
    "    return x1, x2\n",
    "\n",
    "\n",
    "a, b, c = 2,8,1\n",
    "quadratic(a,b,c)"
   ]
  }
 ],
 "metadata": {
  "interpreter": {
   "hash": "b6379a44563ed319418776e68bc83bc87d4b9c3ccc8c76998086fe10af7f0402"
  },
  "kernelspec": {
   "display_name": "Python 3.7.9 64-bit",
   "name": "python3"
  },
  "language_info": {
   "codemirror_mode": {
    "name": "ipython",
    "version": 3
   },
   "file_extension": ".py",
   "mimetype": "text/x-python",
   "name": "python",
   "nbconvert_exporter": "python",
   "pygments_lexer": "ipython3",
   "version": "3.7.9"
  },
  "orig_nbformat": 4
 },
 "nbformat": 4,
 "nbformat_minor": 2
}
